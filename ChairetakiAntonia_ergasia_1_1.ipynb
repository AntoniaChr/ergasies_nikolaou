{
 "cells": [
  {
   "cell_type": "markdown",
   "id": "6686c29d",
   "metadata": {},
   "source": [
    "Looking for palindrome sequences in E.coli genome, I only check the first 4 lines as an example, but it can also work for the whole genome. This function is not going to work if you don't have the \"GCF_000005845.2_ASM584v2_genomic.fna\" file, with E.coli genome in the same directory with the script. In that case try to run the second script, which is the same code with a given sequence, and is expected to work properly without any further requirements."
   ]
  },
  {
   "cell_type": "code",
   "execution_count": 72,
   "id": "f6660980",
   "metadata": {},
   "outputs": [
    {
     "name": "stdout",
     "output_type": "stream",
     "text": [
      "AGCTTTTCATTCTGACTGCAACGGGCAATATGTCTCTGTGTGGATTAAAAAAAGAGTGTCTGATAGCAGCTTCTGAACTGGTTACCTGCCGTGAGTAAATTAAAATTTTATTGACTTAGGTCACTAAATACTTTAACCAATATAGGCATAGCGCACAGACAGATAAAAATTACAGAGTACACAACATCCATGAAACGCATTAGCACCACCATTACCACCACCATCACCATTACCACAGGTAACGGTGCGGGCTGACGCGTACAGGAAACACAGAAAAAAGCCCGCACCTGACAGTGCGGGCTTTTTTTTTCGACCAAAGG\n"
     ]
    },
    {
     "data": {
      "text/plain": [
       "[(203, 221, 'CACCACCATTACCACCAC'),\n",
       " (299, 312, 'GCTTTTTTTTTCG'),\n",
       " (212, 224, 'TACCACCACCAT'),\n",
       " (224, 236, 'CACCATTACCAC'),\n",
       " (19, 28, 'AACGGGCAA'),\n",
       " (30, 39, 'TGTCTCTGT'),\n",
       " (96, 104, 'AAATTAAA'),\n",
       " (99, 107, 'TTAAAATT'),\n",
       " (133, 141, 'TAACCAAT'),\n",
       " (272, 280, 'GAAAAAAG'),\n",
       " (46, 53, 'AAAAAAA'),\n",
       " (154, 161, 'ACAGACA'),\n",
       " (156, 163, 'AGACAGA'),\n",
       " (163, 170, 'TAAAAAT'),\n",
       " (288, 295, 'TGACAGT'),\n",
       " (2, 8, 'CTTTTC'),\n",
       " (17, 23, 'GCAACG'),\n",
       " (86, 92, 'TGCCGT'),\n",
       " (104, 110, 'ATTTTA'),\n",
       " (180, 186, 'ACAACA'),\n",
       " (36, 41, 'TGTGT'),\n",
       " (37, 42, 'GTGTG'),\n",
       " (57, 62, 'GTCTG'),\n",
       " (61, 66, 'GATAG'),\n",
       " (91, 96, 'TGAGT'),\n",
       " (95, 100, 'TAAAT'),\n",
       " (107, 112, 'TTATT'),\n",
       " (120, 125, 'TCACT'),\n",
       " (124, 129, 'TAAAT'),\n",
       " (139, 144, 'ATATA'),\n",
       " (178, 183, 'ACACA'),\n",
       " (194, 199, 'ACGCA'),\n",
       " (247, 252, 'CGGGC'),\n",
       " (267, 272, 'ACACA'),\n",
       " (279, 284, 'GCCCG'),\n",
       " (296, 301, 'CGGGC'),\n",
       " (43, 47, 'ATTA'),\n",
       " (69, 73, 'CTTC'),\n",
       " (78, 82, 'TGGT'),\n",
       " (168, 172, 'ATTA'),\n",
       " (198, 202, 'ATTA'),\n",
       " (262, 266, 'AGGA'),\n",
       " (312, 316, 'ACCA')]"
      ]
     },
     "execution_count": 72,
     "metadata": {},
     "output_type": "execute_result"
    }
   ],
   "source": [
    "#This function check if a given string is palindrome \n",
    "def is_palindrome(seq):\n",
    "    return seq == seq[::-1]\n",
    "\n",
    "def find_palindromes(sequence_file):\n",
    "\n",
    "#open the fasta file with the whole E.coli genome and save the sequence in a string, for convenience I choose to use only the first 4 lines\n",
    "    with open(sequence_file, 'r') as my_file:\n",
    "        whole_seq = ''\n",
    "        count = 0\n",
    "        for line in my_file:\n",
    "            if count >= 5:\n",
    "                break\n",
    "            line = line.strip()\n",
    "            count+=1 \n",
    "            if line.startswith(\">\"):\n",
    "                continue\n",
    "            else:\n",
    "                whole_seq += line\n",
    "    print(whole_seq) #optional, if you want to see the sequence and make sure the parching of the file was correct\n",
    "    #it makes sense only if you work with some lines and not the whole genome\n",
    "    \n",
    "    palindromes = []\n",
    "    min_palindrome_length = 4 #I start concider palindromes only if they have at least 4 nucleotides, but this can modify according to the research you want to do\n",
    "    \n",
    "    def find_all_palindromes(start = 0): #Using start to read the whole sequence\n",
    "        if start >= len(whole_seq):\n",
    "            return\n",
    "        #I check every string with length from 4 to the whole sequence if it is a palindrome\n",
    "        for length in range(min_palindrome_length, len(whole_seq) - start +1): \n",
    "            subsequence = whole_seq[start:start + length]\n",
    "            if is_palindrome(subsequence): #save in a list every palindrome seq I find, among with its position in the sequence\n",
    "                palindromes.append((start, start+ length, subsequence))\n",
    "        find_all_palindromes(start +1) #recalling the function starting from the next position of the sequence\n",
    "    \n",
    "    find_all_palindromes()\n",
    "\n",
    "    #sorting the palindromes I find, by length \n",
    "    palindromes.sort(key=lambda x: len(x[2]), reverse=True)\n",
    "  \n",
    "    final_palindromes = []\n",
    "\n",
    "   #I check the list of palindromes I got, to keep only the biggest one and to remove the overlaping matches \n",
    "    for start, end, seq in palindromes:\n",
    "        if not any(start >= f_start and end <= f_end for f_start, f_end, _ in final_palindromes):\n",
    "            final_palindromes.append((start, end, seq))\n",
    "    #sort the final list by the length of palindromes\n",
    "    final_palindromes.sort(key=lambda x: len(x[2]), reverse=True)\n",
    "\n",
    "    return final_palindromes\n",
    "\n",
    "find_palindromes('GCF_000005845.2_ASM584v2_genomic.fna')"
   ]
  },
  {
   "cell_type": "markdown",
   "id": "8b88f6f4",
   "metadata": {},
   "source": [
    "In our results above we have all the reported palindromes strings across the chosen sequence sorted by length, with their starting and ending position in the sequence. This doesn't give us any meanfull information as it is, but if we searched a specific area across the genome, for example 5' upstream area of a gene we could use this list to search for known transcriptions factor binding sites. Or alternative, if repeat the same process for different genes we could search for common palindromes strings in the 5' upstream region, that cound indicate similar gene regulations patterns.  "
   ]
  },
  {
   "cell_type": "markdown",
   "id": "ba1e122b",
   "metadata": {},
   "source": [
    " Below you can find the same function with an example sequence (First 4 lines of E.coli genome) incuding in the function."
   ]
  },
  {
   "cell_type": "code",
   "execution_count": 73,
   "id": "bbd4e3f3",
   "metadata": {},
   "outputs": [
    {
     "data": {
      "text/plain": [
       "[(203, 221, 'CACCACCATTACCACCAC'),\n",
       " (299, 312, 'GCTTTTTTTTTCG'),\n",
       " (212, 224, 'TACCACCACCAT'),\n",
       " (224, 236, 'CACCATTACCAC'),\n",
       " (19, 28, 'AACGGGCAA'),\n",
       " (30, 39, 'TGTCTCTGT'),\n",
       " (96, 104, 'AAATTAAA'),\n",
       " (99, 107, 'TTAAAATT'),\n",
       " (133, 141, 'TAACCAAT'),\n",
       " (272, 280, 'GAAAAAAG'),\n",
       " (46, 53, 'AAAAAAA'),\n",
       " (154, 161, 'ACAGACA'),\n",
       " (156, 163, 'AGACAGA'),\n",
       " (163, 170, 'TAAAAAT'),\n",
       " (288, 295, 'TGACAGT'),\n",
       " (2, 8, 'CTTTTC'),\n",
       " (17, 23, 'GCAACG'),\n",
       " (86, 92, 'TGCCGT'),\n",
       " (104, 110, 'ATTTTA'),\n",
       " (180, 186, 'ACAACA'),\n",
       " (36, 41, 'TGTGT'),\n",
       " (37, 42, 'GTGTG'),\n",
       " (57, 62, 'GTCTG'),\n",
       " (61, 66, 'GATAG'),\n",
       " (91, 96, 'TGAGT'),\n",
       " (95, 100, 'TAAAT'),\n",
       " (107, 112, 'TTATT'),\n",
       " (120, 125, 'TCACT'),\n",
       " (124, 129, 'TAAAT'),\n",
       " (139, 144, 'ATATA'),\n",
       " (178, 183, 'ACACA'),\n",
       " (194, 199, 'ACGCA'),\n",
       " (247, 252, 'CGGGC'),\n",
       " (267, 272, 'ACACA'),\n",
       " (279, 284, 'GCCCG'),\n",
       " (296, 301, 'CGGGC'),\n",
       " (43, 47, 'ATTA'),\n",
       " (69, 73, 'CTTC'),\n",
       " (78, 82, 'TGGT'),\n",
       " (168, 172, 'ATTA'),\n",
       " (198, 202, 'ATTA'),\n",
       " (262, 266, 'AGGA'),\n",
       " (312, 316, 'ACCA')]"
      ]
     },
     "execution_count": 73,
     "metadata": {},
     "output_type": "execute_result"
    }
   ],
   "source": [
    "#This function check if a given string is palindrome \n",
    "def is_palindrome(seq):\n",
    "    return seq == seq[::-1]\n",
    "\n",
    "def find_palindromes():\n",
    "\n",
    "    palindromes = []\n",
    "    min_palindrome_length = 4 #I start concider palindromes only if they have at least 4 nucleotides, but this can modify according to the research you want to do\n",
    "    whole_seq = \"AGCTTTTCATTCTGACTGCAACGGGCAATATGTCTCTGTGTGGATTAAAAAAAGAGTGTCTGATAGCAGCTTCTGAACTGGTTACCTGCCGTGAGTAAATTAAAATTTTATTGACTTAGGTCACTAAATACTTTAACCAATATAGGCATAGCGCACAGACAGATAAAAATTACAGAGTACACAACATCCATGAAACGCATTAGCACCACCATTACCACCACCATCACCATTACCACAGGTAACGGTGCGGGCTGACGCGTACAGGAAACACAGAAAAAAGCCCGCACCTGACAGTGCGGGCTTTTTTTTTCGACCAAAGG\"\n",
    "    \n",
    "    def find_all_palindromes(start = 0): #Using start to read the whole sequence\n",
    "        if start >= len(whole_seq):\n",
    "            return\n",
    "        #I check every string with length from 4 to the whole sequence if it is a palindrome\n",
    "        for length in range(min_palindrome_length, len(whole_seq) - start +1):\n",
    "            subsequence = whole_seq[start:start + length]\n",
    "            if is_palindrome(subsequence): #save in a list every palindrome seq I find, among with its position in the sequence\n",
    "                palindromes.append((start, start+ length, subsequence))\n",
    "        find_all_palindromes(start +1) #recalling the function starting from the next position of the sequence\n",
    "   \n",
    "    find_all_palindromes()\n",
    "    #sorting the palindromes I find, by length\n",
    "    palindromes.sort(key=lambda x: len(x[2]), reverse=True)\n",
    "  \n",
    "    final_palindromes = []\n",
    "\n",
    "    #I check the list of palindromes I got, to keep only the biggest one and to remove the overlaping matches \n",
    "    for start, end, seq in palindromes:\n",
    "        if not any(start >= f_start and end <= f_end for f_start, f_end, _ in final_palindromes):\n",
    "            final_palindromes.append((start, end, seq))\n",
    "\n",
    "    #sort the final list by the length of palindromes    \n",
    "    final_palindromes.sort(key=lambda x: len(x[2]), reverse=True)\n",
    "\n",
    "    return final_palindromes\n",
    "\n",
    "find_palindromes()"
   ]
  }
 ],
 "metadata": {
  "kernelspec": {
   "display_name": "base",
   "language": "python",
   "name": "python3"
  },
  "language_info": {
   "codemirror_mode": {
    "name": "ipython",
    "version": 3
   },
   "file_extension": ".py",
   "mimetype": "text/x-python",
   "name": "python",
   "nbconvert_exporter": "python",
   "pygments_lexer": "ipython3",
   "version": "3.12.2"
  }
 },
 "nbformat": 4,
 "nbformat_minor": 5
}
